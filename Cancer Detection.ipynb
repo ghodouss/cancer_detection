{
 "cells": [
  {
   "cell_type": "code",
   "execution_count": 1,
   "metadata": {
    "collapsed": false
   },
   "outputs": [],
   "source": [
    "%matplotlib inline\n",
    "import cv2\n",
    "import numpy as np\n",
    "from IPython.display import Image\n",
    "import matplotlib.pyplot as plt"
   ]
  },
  {
   "cell_type": "code",
   "execution_count": 2,
   "metadata": {
    "collapsed": false
   },
   "outputs": [
    {
     "data": {
      "text/plain": [
       "<module 'cv2' from '/home/kian/anaconda3/lib/python3.5/site-packages/cv2.cpython-35m-x86_64-linux-gnu.so'>"
      ]
     },
     "execution_count": 2,
     "metadata": {},
     "output_type": "execute_result"
    }
   ],
   "source": [
    "cv2"
   ]
  },
  {
   "cell_type": "code",
   "execution_count": 5,
   "metadata": {
    "collapsed": true
   },
   "outputs": [],
   "source": [
    "def display_images(img_array):\n",
    "    \n",
    "    cmap = None\n",
    "    \n",
    "    #set up dims of subplot arrangement\n",
    "    rows = len(img_array)/3+1\n",
    "    cols = 3\n",
    "    \n",
    "    #make each image visible\n",
    "    plt.figure(figsize=(20, 20))\n",
    "    \n",
    "    #add each image to plot\n",
    "    for i, img in enumerate(img_array):\n",
    "        # use gray scale color map if there is only one channel\n",
    "        cmap = 'gray' if len(img.shape)==2 else cmap\n",
    "        \n",
    "        plt.subplot(rows, cols, i+1)\n",
    "        plt.imshow(img, cmap=cmap)\n",
    "    \n",
    "    plt.tight_layout(pad=0, h_pad=0, w_pad=0)\n",
    "    plt.show()"
   ]
  },
  {
   "cell_type": "code",
   "execution_count": 6,
   "metadata": {
    "collapsed": true
   },
   "outputs": [],
   "source": [
    "def gray_and_blur(img, k_size=13):\n",
    "    \n",
    "    #convert to grayscale\n",
    "    img = cv2.cvtColor(img, cv2.COLOR_RGB2GRAY)\n",
    "\n",
    "    #blur image\n",
    "    img = cv2.GaussianBlur(img, (k_size, k_size), 0)\n",
    "    \n",
    "    return img\n",
    "\n",
    "def pre_edge(imgs, k_size=13):\n",
    "    processed = []\n",
    "    \n",
    "    for img in imgs:\n",
    "        \n",
    "        processed.append(gray_and_blur(img, k_size))\n",
    "        \n",
    "    return processed\n",
    "\n",
    "\n",
    "def get_edges(imgs, low_t=40, high_t=120, k_size=17):\n",
    "    edged = []\n",
    "    #process images\n",
    "    processed = pre_edge(imgs, k_size=k_size)\n",
    "    \n",
    "    for img in processed:\n",
    "        edged.append(cv2.Canny(img, low_t, high_t))\n",
    "        \n",
    "    return edged"
   ]
  },
  {
   "cell_type": "code",
   "execution_count": 9,
   "metadata": {
    "collapsed": false
   },
   "outputs": [],
   "source": [
    "def find_cancer(imgs):\n",
    "    edge_imgs = get_edges(imgs)\n",
    "    \n",
    "    cntrs = []\n",
    "\n",
    "    \n",
    "    for img in edge_imgs:\n",
    "        _ , contours, hierarchy = cv2.findContours(img,cv2.RETR_TREE,cv2.CHAIN_APPROX_SIMPLE)\n",
    "        cntrs.append(contours)\n",
    "    \n",
    "    max_cntrs = []\n",
    "    \n",
    "    for img_cntrs in cntrs:\n",
    "        \n",
    "        areas = []\n",
    "        \n",
    "        for cntr in img_cntrs:\n",
    "            areas.append(cv2.contourArea(cntr))\n",
    "        \n",
    "        max_index = (areas.index(max(areas)))\n",
    "        \n",
    "        max_cntrs.append(contours[max_index])\n",
    "    \n",
    "    final_images = []\n",
    "    \n",
    "    for cnt, img in zip(max_cntrs, imgs):\n",
    "        \n",
    "        final_images.append(cv2.drawContours(img, cnt, -1, (0,255,0), 3))\n",
    "    \n",
    "    morph_imgs = []\n",
    "    \n",
    "    for img in final_images:\n",
    "\n",
    "        se = np.ones((11,11), dtype='uint8')\n",
    "        morph_imgs.append(cv2.morphologyEx(img, cv2.MORPH_CLOSE, se))\n",
    "        \n",
    "    display_images(morph_imgs)\n",
    "        \n",
    "        \n",
    "    \n",
    "    "
   ]
  },
  {
   "cell_type": "code",
   "execution_count": 10,
   "metadata": {
    "collapsed": false
   },
   "outputs": [
    {
     "data": {
      "image/png": "[encoded data removed]",
      "text/plain": [
       "<matplotlib.figure.Figure at 0x7fb777d79ef0>"
      ]
     },
     "metadata": {},
     "output_type": "display_data"
    }
   ],
   "source": [
    "img = cv2.imread('cancer.jpeg')\n",
    "find_cancer([img])"
   ]
  },
  {
   "cell_type": "code",
   "execution_count": 46,
   "metadata": {
    "collapsed": false
   },
   "outputs": [],
   "source": [
    "def find_cancer(img):\n",
    "    \n",
    "    img = img.copy()\n",
    "    \n",
    "    edge = get_edges([img])[0]\n",
    "    \n",
    "    _ , contours, hierarchy = cv2.findContours(edge,cv2.RETR_TREE,cv2.CHAIN_APPROX_SIMPLE)\n",
    "    \n",
    "    areas = []\n",
    "    \n",
    "    for cntr in contours:\n",
    "        areas.append(cv2.contourArea(cntr))\n",
    "\n",
    "    max_index = (areas.index(max(areas)))\n",
    "\n",
    "    max_cntr = contours[max_index]\n",
    "    \n",
    "    img = cv2.drawContours(img, max_cntr, -1, (0,255,0), 3)\n",
    "\n",
    "    se = np.ones((12,12), dtype='uint8')\n",
    "    img = cv2.morphologyEx(img, cv2.MORPH_CLOSE, se)\n",
    "    \n",
    "    display_images([img])\n",
    "    \n",
    "    return img"
   ]
  },
  {
   "cell_type": "code",
   "execution_count": 49,
   "metadata": {
    "collapsed": false
   },
   "outputs": [
    {
     "data": {
      "image/png": "[encoded data removed]",
      "text/plain": [
       "<matplotlib.figure.Figure at 0x7fb7743fe978>"
      ]
     },
     "metadata": {},
     "output_type": "display_data"
    },
    {
     "data": {
      "text/plain": [
       "array([[[ 61,  61,  61],\n",
       "        [ 61,  61,  61],\n",
       "        [ 61,  48,  37],\n",
       "        ..., \n",
       "        [114,  74,  56],\n",
       "        [114,  74,  56],\n",
       "        [114,  74,  56]],\n",
       "\n",
       "       [[ 61,  61,  61],\n",
       "        [ 61,  61,  61],\n",
       "        [ 61,  48,  37],\n",
       "        ..., \n",
       "        [114,  74,  56],\n",
       "        [114,  74,  56],\n",
       "        [114,  74,  56]],\n",
       "\n",
       "       [[ 38,  38,  37],\n",
       "        [ 38,  38,  37],\n",
       "        [ 38,  38,  37],\n",
       "        ..., \n",
       "        [114,  74,  56],\n",
       "        [114,  74,  56],\n",
       "        [114,  74,  56]],\n",
       "\n",
       "       ..., \n",
       "       [[ 74,  48,  40],\n",
       "        [ 74,  48,  40],\n",
       "        [ 74,  48,  40],\n",
       "        ..., \n",
       "        [187, 142, 109],\n",
       "        [187, 142, 109],\n",
       "        [187, 142, 109]],\n",
       "\n",
       "       [[ 74,  48,  40],\n",
       "        [ 74,  48,  40],\n",
       "        [ 74,  48,  40],\n",
       "        ..., \n",
       "        [187, 142, 109],\n",
       "        [187, 142, 109],\n",
       "        [187, 142, 109]],\n",
       "\n",
       "       [[ 74,  48,  40],\n",
       "        [ 74,  48,  40],\n",
       "        [ 74,  48,  40],\n",
       "        ..., \n",
       "        [187, 142, 109],\n",
       "        [187, 142, 109],\n",
       "        [187, 142, 109]]], dtype=uint8)"
      ]
     },
     "execution_count": 49,
     "metadata": {},
     "output_type": "execute_result"
    }
   ],
   "source": [
    "img = cv2.imread('cancer.jpeg')\n",
    "find_cancer(img)"
   ]
  },
  {
   "cell_type": "code",
   "execution_count": null,
   "metadata": {
    "collapsed": true
   },
   "outputs": [],
   "source": []
  }
 ],
 "metadata": {
  "anaconda-cloud": {},
  "kernelspec": {
   "display_name": "Python [conda root]",
   "language": "python",
   "name": "conda-root-py"
  },
  "language_info": {
   "codemirror_mode": {
    "name": "ipython",
    "version": 3
   },
   "file_extension": ".py",
   "mimetype": "text/x-python",
   "name": "python",
   "nbconvert_exporter": "python",
   "pygments_lexer": "ipython3",
   "version": "3.5.2"
  }
 },
 "nbformat": 4,
 "nbformat_minor": 1
}
